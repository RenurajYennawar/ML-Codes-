{
  "nbformat": 4,
  "nbformat_minor": 0,
  "metadata": {
    "colab": {
      "name": "Toxic Comment Classification.ipynb",
      "provenance": [],
      "collapsed_sections": []
    },
    "kernelspec": {
      "name": "python3",
      "display_name": "Python 3"
    }
  },
  "cells": [
    {
      "cell_type": "markdown",
      "metadata": {
        "id": "IbjFFYY8KQ3K"
      },
      "source": [
        " Toxic Comment Classification\r\n",
        "\r\n",
        "\r\n",
        " Objective:\r\n",
        "\r\n",
        " - To Build a Multi-headed model capable of detecting and assigning probabilities for different types of toxicity such as:\r\n",
        "\r\n",
        " 1.toxic\r\n",
        "\r\n",
        " 2.severe toxic\r\n",
        "\r\n",
        " 3.obscene\r\n",
        "\r\n",
        " 4.threat\r\n",
        "\r\n",
        " 5.insult\r\n",
        "\r\n",
        " 6.identity hate\r\n",
        "\r\n",
        "\r\n",
        " \r\n"
      ]
    },
    {
      "cell_type": "markdown",
      "metadata": {
        "id": "X1N8PU-2LVrT"
      },
      "source": [
        " Import all  Necessary Libraries:\r\n",
        " "
      ]
    },
    {
      "cell_type": "code",
      "metadata": {
        "id": "hlOtFI2KLhOO"
      },
      "source": [
        "import numpy as np\r\n",
        "import pandas as pd\r\n",
        "import matplotlib.pyplot as plt\r\n",
        "import seaborn as sns\r\n",
        "import nltk\r\n",
        "import string\r\n",
        "import re\r\n",
        "from nltk.corpus import stopwords\r\n",
        "from nltk.stem.lancaster import LancasterStemmer\r\n",
        "from sklearn.feature_extraction.text import CountVectorizer, TfidfVectorizer"
      ],
      "execution_count": 1,
      "outputs": []
    },
    {
      "cell_type": "code",
      "metadata": {
        "colab": {
          "base_uri": "https://localhost:8080/"
        },
        "id": "BY7twfXAMLet",
        "outputId": "8975e0ac-d7a1-4c67-d91c-f08ec4108e01"
      },
      "source": [
        "nltk.download('stopwords')"
      ],
      "execution_count": 2,
      "outputs": [
        {
          "output_type": "stream",
          "text": [
            "[nltk_data] Downloading package stopwords to /root/nltk_data...\n",
            "[nltk_data]   Unzipping corpora/stopwords.zip.\n"
          ],
          "name": "stdout"
        },
        {
          "output_type": "execute_result",
          "data": {
            "text/plain": [
              "True"
            ]
          },
          "metadata": {
            "tags": []
          },
          "execution_count": 2
        }
      ]
    },
    {
      "cell_type": "code",
      "metadata": {
        "colab": {
          "base_uri": "https://localhost:8080/"
        },
        "id": "LVSrB5MKMRG0",
        "outputId": "230477d5-0c9d-4021-dfa7-6fb76e0a8c01"
      },
      "source": [
        "set(stopwords.words('english'))"
      ],
      "execution_count": 3,
      "outputs": [
        {
          "output_type": "execute_result",
          "data": {
            "text/plain": [
              "{'a',\n",
              " 'about',\n",
              " 'above',\n",
              " 'after',\n",
              " 'again',\n",
              " 'against',\n",
              " 'ain',\n",
              " 'all',\n",
              " 'am',\n",
              " 'an',\n",
              " 'and',\n",
              " 'any',\n",
              " 'are',\n",
              " 'aren',\n",
              " \"aren't\",\n",
              " 'as',\n",
              " 'at',\n",
              " 'be',\n",
              " 'because',\n",
              " 'been',\n",
              " 'before',\n",
              " 'being',\n",
              " 'below',\n",
              " 'between',\n",
              " 'both',\n",
              " 'but',\n",
              " 'by',\n",
              " 'can',\n",
              " 'couldn',\n",
              " \"couldn't\",\n",
              " 'd',\n",
              " 'did',\n",
              " 'didn',\n",
              " \"didn't\",\n",
              " 'do',\n",
              " 'does',\n",
              " 'doesn',\n",
              " \"doesn't\",\n",
              " 'doing',\n",
              " 'don',\n",
              " \"don't\",\n",
              " 'down',\n",
              " 'during',\n",
              " 'each',\n",
              " 'few',\n",
              " 'for',\n",
              " 'from',\n",
              " 'further',\n",
              " 'had',\n",
              " 'hadn',\n",
              " \"hadn't\",\n",
              " 'has',\n",
              " 'hasn',\n",
              " \"hasn't\",\n",
              " 'have',\n",
              " 'haven',\n",
              " \"haven't\",\n",
              " 'having',\n",
              " 'he',\n",
              " 'her',\n",
              " 'here',\n",
              " 'hers',\n",
              " 'herself',\n",
              " 'him',\n",
              " 'himself',\n",
              " 'his',\n",
              " 'how',\n",
              " 'i',\n",
              " 'if',\n",
              " 'in',\n",
              " 'into',\n",
              " 'is',\n",
              " 'isn',\n",
              " \"isn't\",\n",
              " 'it',\n",
              " \"it's\",\n",
              " 'its',\n",
              " 'itself',\n",
              " 'just',\n",
              " 'll',\n",
              " 'm',\n",
              " 'ma',\n",
              " 'me',\n",
              " 'mightn',\n",
              " \"mightn't\",\n",
              " 'more',\n",
              " 'most',\n",
              " 'mustn',\n",
              " \"mustn't\",\n",
              " 'my',\n",
              " 'myself',\n",
              " 'needn',\n",
              " \"needn't\",\n",
              " 'no',\n",
              " 'nor',\n",
              " 'not',\n",
              " 'now',\n",
              " 'o',\n",
              " 'of',\n",
              " 'off',\n",
              " 'on',\n",
              " 'once',\n",
              " 'only',\n",
              " 'or',\n",
              " 'other',\n",
              " 'our',\n",
              " 'ours',\n",
              " 'ourselves',\n",
              " 'out',\n",
              " 'over',\n",
              " 'own',\n",
              " 're',\n",
              " 's',\n",
              " 'same',\n",
              " 'shan',\n",
              " \"shan't\",\n",
              " 'she',\n",
              " \"she's\",\n",
              " 'should',\n",
              " \"should've\",\n",
              " 'shouldn',\n",
              " \"shouldn't\",\n",
              " 'so',\n",
              " 'some',\n",
              " 'such',\n",
              " 't',\n",
              " 'than',\n",
              " 'that',\n",
              " \"that'll\",\n",
              " 'the',\n",
              " 'their',\n",
              " 'theirs',\n",
              " 'them',\n",
              " 'themselves',\n",
              " 'then',\n",
              " 'there',\n",
              " 'these',\n",
              " 'they',\n",
              " 'this',\n",
              " 'those',\n",
              " 'through',\n",
              " 'to',\n",
              " 'too',\n",
              " 'under',\n",
              " 'until',\n",
              " 'up',\n",
              " 've',\n",
              " 'very',\n",
              " 'was',\n",
              " 'wasn',\n",
              " \"wasn't\",\n",
              " 'we',\n",
              " 'were',\n",
              " 'weren',\n",
              " \"weren't\",\n",
              " 'what',\n",
              " 'when',\n",
              " 'where',\n",
              " 'which',\n",
              " 'while',\n",
              " 'who',\n",
              " 'whom',\n",
              " 'why',\n",
              " 'will',\n",
              " 'with',\n",
              " 'won',\n",
              " \"won't\",\n",
              " 'wouldn',\n",
              " \"wouldn't\",\n",
              " 'y',\n",
              " 'you',\n",
              " \"you'd\",\n",
              " \"you'll\",\n",
              " \"you're\",\n",
              " \"you've\",\n",
              " 'your',\n",
              " 'yours',\n",
              " 'yourself',\n",
              " 'yourselves'}"
            ]
          },
          "metadata": {
            "tags": []
          },
          "execution_count": 3
        }
      ]
    },
    {
      "cell_type": "markdown",
      "metadata": {
        "id": "JtazVN-3Maoa"
      },
      "source": [
        "Load the Data and take a peek of first 5 rows"
      ]
    },
    {
      "cell_type": "code",
      "metadata": {
        "colab": {
          "resources": {
            "http://localhost:8080/nbextensions/google.colab/files.js": {
              "data": "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",
              "ok": true,
              "headers": [
                [
                  "content-type",
                  "application/javascript"
                ]
              ],
              "status": 200,
              "status_text": ""
            }
          },
          "base_uri": "https://localhost:8080/",
          "height": 72
        },
        "id": "4DsvAWLhMi_c",
        "outputId": "9a0be68d-8e5b-4344-bf8e-20f36972b07d"
      },
      "source": [
        "from google.colab import files\r\n",
        "uploaded=files.upload()"
      ],
      "execution_count": 4,
      "outputs": [
        {
          "output_type": "display_data",
          "data": {
            "text/html": [
              "\n",
              "     <input type=\"file\" id=\"files-9a5c7a34-b1a9-4bf5-968e-5871bedb6b50\" name=\"files[]\" multiple disabled\n",
              "        style=\"border:none\" />\n",
              "     <output id=\"result-9a5c7a34-b1a9-4bf5-968e-5871bedb6b50\">\n",
              "      Upload widget is only available when the cell has been executed in the\n",
              "      current browser session. Please rerun this cell to enable.\n",
              "      </output>\n",
              "      <script src=\"/nbextensions/google.colab/files.js\"></script> "
            ],
            "text/plain": [
              "<IPython.core.display.HTML object>"
            ]
          },
          "metadata": {
            "tags": []
          }
        },
        {
          "output_type": "stream",
          "text": [
            "Saving train.csv to train.csv\n"
          ],
          "name": "stdout"
        }
      ]
    },
    {
      "cell_type": "code",
      "metadata": {
        "colab": {
          "base_uri": "https://localhost:8080/",
          "height": 204
        },
        "id": "GkkPT5erNAFV",
        "outputId": "a907c9a4-f95b-4a4a-bfec-33b4c4ef4eb3"
      },
      "source": [
        "data=pd.read_csv(\"train.csv\")\r\n",
        "data.head()"
      ],
      "execution_count": 5,
      "outputs": [
        {
          "output_type": "execute_result",
          "data": {
            "text/html": [
              "<div>\n",
              "<style scoped>\n",
              "    .dataframe tbody tr th:only-of-type {\n",
              "        vertical-align: middle;\n",
              "    }\n",
              "\n",
              "    .dataframe tbody tr th {\n",
              "        vertical-align: top;\n",
              "    }\n",
              "\n",
              "    .dataframe thead th {\n",
              "        text-align: right;\n",
              "    }\n",
              "</style>\n",
              "<table border=\"1\" class=\"dataframe\">\n",
              "  <thead>\n",
              "    <tr style=\"text-align: right;\">\n",
              "      <th></th>\n",
              "      <th>id</th>\n",
              "      <th>comment_text</th>\n",
              "      <th>toxic</th>\n",
              "      <th>severe_toxic</th>\n",
              "      <th>obscene</th>\n",
              "      <th>threat</th>\n",
              "      <th>insult</th>\n",
              "      <th>identity_hate</th>\n",
              "    </tr>\n",
              "  </thead>\n",
              "  <tbody>\n",
              "    <tr>\n",
              "      <th>0</th>\n",
              "      <td>0000997932d777bf</td>\n",
              "      <td>Explanation\\nWhy the edits made under my usern...</td>\n",
              "      <td>0</td>\n",
              "      <td>0</td>\n",
              "      <td>0</td>\n",
              "      <td>0</td>\n",
              "      <td>0</td>\n",
              "      <td>0</td>\n",
              "    </tr>\n",
              "    <tr>\n",
              "      <th>1</th>\n",
              "      <td>000103f0d9cfb60f</td>\n",
              "      <td>D'aww! He matches this background colour I'm s...</td>\n",
              "      <td>0</td>\n",
              "      <td>0</td>\n",
              "      <td>0</td>\n",
              "      <td>0</td>\n",
              "      <td>0</td>\n",
              "      <td>0</td>\n",
              "    </tr>\n",
              "    <tr>\n",
              "      <th>2</th>\n",
              "      <td>000113f07ec002fd</td>\n",
              "      <td>Hey man, I'm really not trying to edit war. It...</td>\n",
              "      <td>0</td>\n",
              "      <td>0</td>\n",
              "      <td>0</td>\n",
              "      <td>0</td>\n",
              "      <td>0</td>\n",
              "      <td>0</td>\n",
              "    </tr>\n",
              "    <tr>\n",
              "      <th>3</th>\n",
              "      <td>0001b41b1c6bb37e</td>\n",
              "      <td>\"\\nMore\\nI can't make any real suggestions on ...</td>\n",
              "      <td>0</td>\n",
              "      <td>0</td>\n",
              "      <td>0</td>\n",
              "      <td>0</td>\n",
              "      <td>0</td>\n",
              "      <td>0</td>\n",
              "    </tr>\n",
              "    <tr>\n",
              "      <th>4</th>\n",
              "      <td>0001d958c54c6e35</td>\n",
              "      <td>You, sir, are my hero. Any chance you remember...</td>\n",
              "      <td>0</td>\n",
              "      <td>0</td>\n",
              "      <td>0</td>\n",
              "      <td>0</td>\n",
              "      <td>0</td>\n",
              "      <td>0</td>\n",
              "    </tr>\n",
              "  </tbody>\n",
              "</table>\n",
              "</div>"
            ],
            "text/plain": [
              "                 id  ... identity_hate\n",
              "0  0000997932d777bf  ...             0\n",
              "1  000103f0d9cfb60f  ...             0\n",
              "2  000113f07ec002fd  ...             0\n",
              "3  0001b41b1c6bb37e  ...             0\n",
              "4  0001d958c54c6e35  ...             0\n",
              "\n",
              "[5 rows x 8 columns]"
            ]
          },
          "metadata": {
            "tags": []
          },
          "execution_count": 5
        }
      ]
    },
    {
      "cell_type": "code",
      "metadata": {
        "colab": {
          "base_uri": "https://localhost:8080/"
        },
        "id": "oOyiZDg6RhOk",
        "outputId": "42d421c5-81b1-4b2c-ed8d-657eb54ca46c"
      },
      "source": [
        "data.info()"
      ],
      "execution_count": 6,
      "outputs": [
        {
          "output_type": "stream",
          "text": [
            "<class 'pandas.core.frame.DataFrame'>\n",
            "RangeIndex: 159571 entries, 0 to 159570\n",
            "Data columns (total 8 columns):\n",
            " #   Column         Non-Null Count   Dtype \n",
            "---  ------         --------------   ----- \n",
            " 0   id             159571 non-null  object\n",
            " 1   comment_text   159571 non-null  object\n",
            " 2   toxic          159571 non-null  int64 \n",
            " 3   severe_toxic   159571 non-null  int64 \n",
            " 4   obscene        159571 non-null  int64 \n",
            " 5   threat         159571 non-null  int64 \n",
            " 6   insult         159571 non-null  int64 \n",
            " 7   identity_hate  159571 non-null  int64 \n",
            "dtypes: int64(6), object(2)\n",
            "memory usage: 9.7+ MB\n"
          ],
          "name": "stdout"
        }
      ]
    },
    {
      "cell_type": "markdown",
      "metadata": {
        "id": "a1eIa8QIRqHV"
      },
      "source": [
        "Let's see how the first 3 comments look like\r\n"
      ]
    },
    {
      "cell_type": "code",
      "metadata": {
        "colab": {
          "base_uri": "https://localhost:8080/",
          "height": 52
        },
        "id": "gi2vGBFURxpR",
        "outputId": "4fe83bd9-4a31-4acc-bd88-329b414f68f8"
      },
      "source": [
        "data['comment_text'][0]"
      ],
      "execution_count": 7,
      "outputs": [
        {
          "output_type": "execute_result",
          "data": {
            "application/vnd.google.colaboratory.intrinsic+json": {
              "type": "string"
            },
            "text/plain": [
              "\"Explanation\\nWhy the edits made under my username Hardcore Metallica Fan were reverted? They weren't vandalisms, just closure on some GAs after I voted at New York Dolls FAC. And please don't remove the template from the talk page since I'm retired now.89.205.38.27\""
            ]
          },
          "metadata": {
            "tags": []
          },
          "execution_count": 7
        }
      ]
    },
    {
      "cell_type": "code",
      "metadata": {
        "colab": {
          "base_uri": "https://localhost:8080/",
          "height": 35
        },
        "id": "Mg98GuEUR33y",
        "outputId": "ed4a42a8-2dae-4004-aa19-a5001d529e32"
      },
      "source": [
        "data['comment_text'][1]"
      ],
      "execution_count": 8,
      "outputs": [
        {
          "output_type": "execute_result",
          "data": {
            "application/vnd.google.colaboratory.intrinsic+json": {
              "type": "string"
            },
            "text/plain": [
              "\"D'aww! He matches this background colour I'm seemingly stuck with. Thanks.  (talk) 21:51, January 11, 2016 (UTC)\""
            ]
          },
          "metadata": {
            "tags": []
          },
          "execution_count": 8
        }
      ]
    },
    {
      "cell_type": "code",
      "metadata": {
        "colab": {
          "base_uri": "https://localhost:8080/",
          "height": 86
        },
        "id": "1178VBBMR8e6",
        "outputId": "dc11a7a7-7182-47f7-ca49-11340ad50a6a"
      },
      "source": [
        "data['comment_text'][3]"
      ],
      "execution_count": 9,
      "outputs": [
        {
          "output_type": "execute_result",
          "data": {
            "application/vnd.google.colaboratory.intrinsic+json": {
              "type": "string"
            },
            "text/plain": [
              "'\"\\nMore\\nI can\\'t make any real suggestions on improvement - I wondered if the section statistics should be later on, or a subsection of \"\"types of accidents\"\"  -I think the references may need tidying so that they are all in the exact same format ie date format etc. I can do that later on, if no-one else does first - if you have any preferences for formatting style on references or want to do it yourself please let me know.\\n\\nThere appears to be a backlog on articles for review so I guess there may be a delay until a reviewer turns up. It\\'s listed in the relevant form eg Wikipedia:Good_article_nominations#Transport  \"'"
            ]
          },
          "metadata": {
            "tags": []
          },
          "execution_count": 9
        }
      ]
    },
    {
      "cell_type": "markdown",
      "metadata": {
        "id": "qDxij2RVSFie"
      },
      "source": [
        "Exploratory Data Analysis"
      ]
    },
    {
      "cell_type": "code",
      "metadata": {
        "colab": {
          "base_uri": "https://localhost:8080/"
        },
        "id": "wJQnOx0ASKxK",
        "outputId": "7ee54245-1357-4314-85fd-de8d07b7cf1a"
      },
      "source": [
        "data.toxic.value_counts(normalize=True)"
      ],
      "execution_count": 10,
      "outputs": [
        {
          "output_type": "execute_result",
          "data": {
            "text/plain": [
              "0    0.904156\n",
              "1    0.095844\n",
              "Name: toxic, dtype: float64"
            ]
          },
          "metadata": {
            "tags": []
          },
          "execution_count": 10
        }
      ]
    },
    {
      "cell_type": "code",
      "metadata": {
        "colab": {
          "base_uri": "https://localhost:8080/",
          "height": 204
        },
        "id": "HvchgJatSTDI",
        "outputId": "f6d518d1-fdf2-484c-b394-82456f239603"
      },
      "source": [
        "data.head()"
      ],
      "execution_count": 11,
      "outputs": [
        {
          "output_type": "execute_result",
          "data": {
            "text/html": [
              "<div>\n",
              "<style scoped>\n",
              "    .dataframe tbody tr th:only-of-type {\n",
              "        vertical-align: middle;\n",
              "    }\n",
              "\n",
              "    .dataframe tbody tr th {\n",
              "        vertical-align: top;\n",
              "    }\n",
              "\n",
              "    .dataframe thead th {\n",
              "        text-align: right;\n",
              "    }\n",
              "</style>\n",
              "<table border=\"1\" class=\"dataframe\">\n",
              "  <thead>\n",
              "    <tr style=\"text-align: right;\">\n",
              "      <th></th>\n",
              "      <th>id</th>\n",
              "      <th>comment_text</th>\n",
              "      <th>toxic</th>\n",
              "      <th>severe_toxic</th>\n",
              "      <th>obscene</th>\n",
              "      <th>threat</th>\n",
              "      <th>insult</th>\n",
              "      <th>identity_hate</th>\n",
              "    </tr>\n",
              "  </thead>\n",
              "  <tbody>\n",
              "    <tr>\n",
              "      <th>0</th>\n",
              "      <td>0000997932d777bf</td>\n",
              "      <td>Explanation\\nWhy the edits made under my usern...</td>\n",
              "      <td>0</td>\n",
              "      <td>0</td>\n",
              "      <td>0</td>\n",
              "      <td>0</td>\n",
              "      <td>0</td>\n",
              "      <td>0</td>\n",
              "    </tr>\n",
              "    <tr>\n",
              "      <th>1</th>\n",
              "      <td>000103f0d9cfb60f</td>\n",
              "      <td>D'aww! He matches this background colour I'm s...</td>\n",
              "      <td>0</td>\n",
              "      <td>0</td>\n",
              "      <td>0</td>\n",
              "      <td>0</td>\n",
              "      <td>0</td>\n",
              "      <td>0</td>\n",
              "    </tr>\n",
              "    <tr>\n",
              "      <th>2</th>\n",
              "      <td>000113f07ec002fd</td>\n",
              "      <td>Hey man, I'm really not trying to edit war. It...</td>\n",
              "      <td>0</td>\n",
              "      <td>0</td>\n",
              "      <td>0</td>\n",
              "      <td>0</td>\n",
              "      <td>0</td>\n",
              "      <td>0</td>\n",
              "    </tr>\n",
              "    <tr>\n",
              "      <th>3</th>\n",
              "      <td>0001b41b1c6bb37e</td>\n",
              "      <td>\"\\nMore\\nI can't make any real suggestions on ...</td>\n",
              "      <td>0</td>\n",
              "      <td>0</td>\n",
              "      <td>0</td>\n",
              "      <td>0</td>\n",
              "      <td>0</td>\n",
              "      <td>0</td>\n",
              "    </tr>\n",
              "    <tr>\n",
              "      <th>4</th>\n",
              "      <td>0001d958c54c6e35</td>\n",
              "      <td>You, sir, are my hero. Any chance you remember...</td>\n",
              "      <td>0</td>\n",
              "      <td>0</td>\n",
              "      <td>0</td>\n",
              "      <td>0</td>\n",
              "      <td>0</td>\n",
              "      <td>0</td>\n",
              "    </tr>\n",
              "  </tbody>\n",
              "</table>\n",
              "</div>"
            ],
            "text/plain": [
              "                 id  ... identity_hate\n",
              "0  0000997932d777bf  ...             0\n",
              "1  000103f0d9cfb60f  ...             0\n",
              "2  000113f07ec002fd  ...             0\n",
              "3  0001b41b1c6bb37e  ...             0\n",
              "4  0001d958c54c6e35  ...             0\n",
              "\n",
              "[5 rows x 8 columns]"
            ]
          },
          "metadata": {
            "tags": []
          },
          "execution_count": 11
        }
      ]
    },
    {
      "cell_type": "code",
      "metadata": {
        "id": "sSoSwFTASbJe"
      },
      "source": [
        "data_count=data.iloc[:,2:].sum()"
      ],
      "execution_count": 12,
      "outputs": []
    },
    {
      "cell_type": "code",
      "metadata": {
        "colab": {
          "base_uri": "https://localhost:8080/"
        },
        "id": "7VxRzJmVSg_m",
        "outputId": "2b32b1f7-140c-49cc-fa2a-52b2cf5c3db1"
      },
      "source": [
        "data.count()"
      ],
      "execution_count": 13,
      "outputs": [
        {
          "output_type": "execute_result",
          "data": {
            "text/plain": [
              "id               159571\n",
              "comment_text     159571\n",
              "toxic            159571\n",
              "severe_toxic     159571\n",
              "obscene          159571\n",
              "threat           159571\n",
              "insult           159571\n",
              "identity_hate    159571\n",
              "dtype: int64"
            ]
          },
          "metadata": {
            "tags": []
          },
          "execution_count": 13
        }
      ]
    },
    {
      "cell_type": "code",
      "metadata": {
        "colab": {
          "base_uri": "https://localhost:8080/",
          "height": 353
        },
        "id": "SLuSc1a2SpAr",
        "outputId": "4e58dbee-3fd8-4244-bebe-5cb11db6f515"
      },
      "source": [
        "plt.figure(figsize=(8,4))\r\n",
        "\r\n",
        "# Plot a bar chart using the index (category values) and the count of each category. alpha = 0.8 to make the bars more translucent\r\n",
        "ax = sns.barplot(data_count.index, data_count.values, alpha=0.8)\r\n",
        "\r\n",
        "plt.title(\"No. of comments per class\")\r\n",
        "plt.ylabel('No. of Occurrences', fontsize=12)\r\n",
        "plt.xlabel('Type ', fontsize=12)\r\n",
        "\r\n",
        "#adding the text labels for each bar\r\n",
        "rects = ax.patches\r\n",
        "labels = data_count.values\r\n",
        "for rect, label in zip(rects, labels):\r\n",
        "    height = rect.get_height()\r\n",
        "    ax.text(rect.get_x() + rect.get_width()/2, height + 5, label, ha='center', va='bottom')\r\n",
        "\r\n",
        "plt.show()"
      ],
      "execution_count": 14,
      "outputs": [
        {
          "output_type": "stream",
          "text": [
            "/usr/local/lib/python3.7/dist-packages/seaborn/_decorators.py:43: FutureWarning: Pass the following variables as keyword args: x, y. From version 0.12, the only valid positional argument will be `data`, and passing other arguments without an explicit keyword will result in an error or misinterpretation.\n",
            "  FutureWarning\n"
          ],
          "name": "stderr"
        },
        {
          "output_type": "display_data",
          "data": {
            "image/png": "[encoded data removed]",
            "text/plain": [
              "<Figure size 576x288 with 1 Axes>"
            ]
          },
          "metadata": {
            "tags": [],
            "needs_background": "light"
          }
        }
      ]
    },
    {
      "cell_type": "code",
      "metadata": {
        "colab": {
          "base_uri": "https://localhost:8080/"
        },
        "id": "TISaGTpSS93C",
        "outputId": "7ecf5d93-69b1-42b8-fd14-a2d03963489a"
      },
      "source": [
        "num_rows = len(data)\r\n",
        "print(num_rows)"
      ],
      "execution_count": 15,
      "outputs": [
        {
          "output_type": "stream",
          "text": [
            "159571\n"
          ],
          "name": "stdout"
        }
      ]
    },
    {
      "cell_type": "code",
      "metadata": {
        "colab": {
          "base_uri": "https://localhost:8080/",
          "height": 319
        },
        "id": "ZowNjAuBTC4k",
        "outputId": "325d17e1-20ae-4ddf-9c91-ecc74c537f9f"
      },
      "source": [
        "sum_tox = data['toxic'].sum() / num_rows * 100\r\n",
        "sum_sev = data['severe_toxic'].sum() / num_rows * 100\r\n",
        "sum_obs = data['obscene'].sum() / num_rows * 100\r\n",
        "sum_thr = data['threat'].sum() / num_rows * 100\r\n",
        "sum_ins = data['insult'].sum() / num_rows * 100\r\n",
        "sum_ide = data['identity_hate'].sum() / num_rows * 100\r\n",
        "\r\n",
        "# Initiate a list of 6 values that represent the 6 x-axis values for the categories\r\n",
        "ind = np.arange(6)\r\n",
        "\r\n",
        "# Let the ind variable be the x-axis, whereas the % of toxicity for each category be the y-axis.\r\n",
        "# Sequence of % have been sorted manually. This method cannot be done if there are large numbers of categories.\r\n",
        "ax = plt.barh(ind, [sum_tox, sum_obs, sum_ins, sum_sev, sum_ide, sum_thr])\r\n",
        "plt.xlabel('Percentage (%)', size=20)\r\n",
        "plt.xticks(np.arange(0, 30, 5), size=20)\r\n",
        "plt.title('% of comments in various categories', size=22)\r\n",
        "plt.yticks(ind, ('Toxic', 'Obscene', 'Insult', 'Severe Toxic', 'Identity Hate', 'Threat', ), size=15)\r\n",
        "\r\n",
        "# Invert the graph so that it is in descending order.\r\n",
        "plt.gca().invert_yaxis()\r\n",
        "plt.show()"
      ],
      "execution_count": 16,
      "outputs": [
        {
          "output_type": "display_data",
          "data": {
            "image/png": "[encoded data removed]",
            "text/plain": [
              "<Figure size 432x288 with 1 Axes>"
            ]
          },
          "metadata": {
            "tags": [],
            "needs_background": "light"
          }
        }
      ]
    },
    {
      "cell_type": "markdown",
      "metadata": {
        "id": "8d0qyI2eTNGU"
      },
      "source": [
        "Pre-process the Text"
      ]
    },
    {
      "cell_type": "code",
      "metadata": {
        "colab": {
          "base_uri": "https://localhost:8080/",
          "height": 52
        },
        "id": "3gcHo56ETRlc",
        "outputId": "9218a74e-0632-47b4-9d7c-65108cf6f3aa"
      },
      "source": [
        "import re\r\n",
        "import string\r\n",
        "\r\n",
        "# remove all numbers with letters attached to them\r\n",
        "alphanumeric = lambda x: re.sub('\\w*\\d\\w*', ' ', x)\r\n",
        "\r\n",
        "# '[%s]' % re.escape(string.punctuation),' ' - replace punctuation with white space\r\n",
        "# .lower() - convert all strings to lowercase \r\n",
        "punc_lower = lambda x: re.sub('[%s]' % re.escape(string.punctuation), ' ', x.lower())\r\n",
        "\r\n",
        "# Remove all '\\n' in the string and replace it with a space\r\n",
        "remove_n = lambda x: re.sub(\"\\n\", \" \", x)\r\n",
        "\r\n",
        "# Remove all non-ascii characters \r\n",
        "remove_non_ascii = lambda x: re.sub(r'[^\\x00-\\x7f]',r' ', x)\r\n",
        "\r\n",
        "# Apply all the lambda functions wrote previously through .map on the comments column\r\n",
        "data['comment_text'] = data['comment_text'].map(alphanumeric).map(punc_lower).map(remove_n).map(remove_non_ascii)\r\n",
        "\r\n",
        "data['comment_text'][0]"
      ],
      "execution_count": 17,
      "outputs": [
        {
          "output_type": "execute_result",
          "data": {
            "application/vnd.google.colaboratory.intrinsic+json": {
              "type": "string"
            },
            "text/plain": [
              "'explanation why the edits made under my username hardcore metallica fan were reverted  they weren t vandalisms  just closure on some gas after i voted at new york dolls fac  and please don t remove the template from the talk page since i m retired now        '"
            ]
          },
          "metadata": {
            "tags": []
          },
          "execution_count": 17
        }
      ]
    },
    {
      "cell_type": "markdown",
      "metadata": {
        "id": "1IaVyWdWTsQ7"
      },
      "source": [
        "\r\n",
        "Separate our dataset into 6 sections. Each section is comment + 1 category."
      ]
    },
    {
      "cell_type": "code",
      "metadata": {
        "id": "Lcs-gVRBTxAk"
      },
      "source": [
        "data_tox = data.loc[:,['id','comment_text','toxic']]"
      ],
      "execution_count": 18,
      "outputs": []
    },
    {
      "cell_type": "code",
      "metadata": {
        "colab": {
          "base_uri": "https://localhost:8080/",
          "height": 52
        },
        "id": "GY_a_D3IT3a_",
        "outputId": "76ab6cf3-efb0-49f6-d009-24d6751dc5d4"
      },
      "source": [
        "data_tox['comment_text'][0]"
      ],
      "execution_count": 19,
      "outputs": [
        {
          "output_type": "execute_result",
          "data": {
            "application/vnd.google.colaboratory.intrinsic+json": {
              "type": "string"
            },
            "text/plain": [
              "'explanation why the edits made under my username hardcore metallica fan were reverted  they weren t vandalisms  just closure on some gas after i voted at new york dolls fac  and please don t remove the template from the talk page since i m retired now        '"
            ]
          },
          "metadata": {
            "tags": []
          },
          "execution_count": 19
        }
      ]
    },
    {
      "cell_type": "code",
      "metadata": {
        "colab": {
          "base_uri": "https://localhost:8080/",
          "height": 35
        },
        "id": "dwtVPG5nUNQX",
        "outputId": "c617ef1b-48d4-470c-8793-fa4d7a90e10d"
      },
      "source": [
        "data_tox['comment_text'][1]"
      ],
      "execution_count": 20,
      "outputs": [
        {
          "output_type": "execute_result",
          "data": {
            "application/vnd.google.colaboratory.intrinsic+json": {
              "type": "string"
            },
            "text/plain": [
              "'d aww  he matches this background colour i m seemingly stuck with  thanks    talk       january       utc '"
            ]
          },
          "metadata": {
            "tags": []
          },
          "execution_count": 20
        }
      ]
    },
    {
      "cell_type": "code",
      "metadata": {
        "id": "LQWVytgRUYNY"
      },
      "source": [
        "data_sev = data.loc[:,['id','comment_text','severe_toxic']]"
      ],
      "execution_count": 21,
      "outputs": []
    },
    {
      "cell_type": "code",
      "metadata": {
        "id": "loyAN59UUZ8u"
      },
      "source": [
        "data_obs = data.loc[:,['id','comment_text','obscene']]"
      ],
      "execution_count": 22,
      "outputs": []
    },
    {
      "cell_type": "code",
      "metadata": {
        "id": "kkmkx947UfPP"
      },
      "source": [
        "data_thr = data.loc[:,['id','comment_text','threat']]"
      ],
      "execution_count": 23,
      "outputs": []
    },
    {
      "cell_type": "code",
      "metadata": {
        "id": "PZK5AXwzUjwr"
      },
      "source": [
        "data_ins = data.loc[:,['id','comment_text','insult']]"
      ],
      "execution_count": 24,
      "outputs": []
    },
    {
      "cell_type": "code",
      "metadata": {
        "id": "MHqGQuUIUoLl"
      },
      "source": [
        "data_ide = data.loc[:,['id','comment_text','identity_hate']]"
      ],
      "execution_count": 25,
      "outputs": []
    },
    {
      "cell_type": "markdown",
      "metadata": {
        "id": "uY8VNO-YU7uj"
      },
      "source": [
        "\r\n",
        "Creating WordCloud \r\n",
        "\r\n",
        "Useful to show the words which occur most frequently for each category. Warning: Profanity ahead."
      ]
    },
    {
      "cell_type": "code",
      "metadata": {
        "id": "Cgs9Y_zTVFl9"
      },
      "source": [
        "import wordcloud\r\n",
        "from PIL import Image\r\n",
        "from wordcloud import WordCloud, STOPWORDS, ImageColorGenerator\r\n",
        "from nltk.corpus import stopwords"
      ],
      "execution_count": 26,
      "outputs": []
    },
    {
      "cell_type": "code",
      "metadata": {
        "id": "TjaEpUmRVUU0"
      },
      "source": [
        "def wordcloud(df, label):\r\n",
        "    \r\n",
        "    # Print only rows where the toxic category label value is 1 (ie. the comment is toxic)\r\n",
        "    subset=df[df[label]==1]\r\n",
        "    text=subset.comment_text.values\r\n",
        "    wc= WordCloud(background_color=\"black\",max_words=4000)\r\n",
        "\r\n",
        "    wc.generate(\" \".join(text))\r\n",
        "\r\n",
        "    plt.figure(figsize=(20,20))\r\n",
        "    plt.subplot(221)\r\n",
        "    plt.axis(\"off\")\r\n",
        "    plt.title(\"Words frequented in {}\".format(label), fontsize=20)\r\n",
        "    plt.imshow(wc.recolor(colormap= 'gist_earth' , random_state=244), alpha=0.98)"
      ],
      "execution_count": 27,
      "outputs": []
    },
    {
      "cell_type": "code",
      "metadata": {
        "colab": {
          "base_uri": "https://localhost:8080/",
          "height": 306
        },
        "id": "b5b3oUDSVaBM",
        "outputId": "be1b3b9f-43c2-4b62-ba19-975c094b2b9b"
      },
      "source": [
        "wordcloud(data_ide,'identity_hate')"
      ],
      "execution_count": 28,
      "outputs": [
        {
          "output_type": "display_data",
          "data": {
            "image/png": "[encoded data removed]",
            "text/plain": [
              "<Figure size 1440x1440 with 1 Axes>"
            ]
          },
          "metadata": {
            "tags": [],
            "needs_background": "light"
          }
        }
      ]
    },
    {
      "cell_type": "code",
      "metadata": {
        "colab": {
          "base_uri": "https://localhost:8080/",
          "height": 306
        },
        "id": "2SeQHpFaVdBT",
        "outputId": "4392ada0-8c38-4a4a-dc6d-a9b0839fca4c"
      },
      "source": [
        "wordcloud(data_ins, 'insult')"
      ],
      "execution_count": 29,
      "outputs": [
        {
          "output_type": "display_data",
          "data": {
            "image/png": "[encoded data removed]",
            "text/plain": [
              "<Figure size 1440x1440 with 1 Axes>"
            ]
          },
          "metadata": {
            "tags": [],
            "needs_background": "light"
          }
        }
      ]
    },
    {
      "cell_type": "code",
      "metadata": {
        "colab": {
          "base_uri": "https://localhost:8080/",
          "height": 204
        },
        "id": "KH8gDuvZVmCg",
        "outputId": "0d6f02e5-deee-4940-f852-e43243fb176a"
      },
      "source": [
        "data_tox.head()"
      ],
      "execution_count": 30,
      "outputs": [
        {
          "output_type": "execute_result",
          "data": {
            "text/html": [
              "<div>\n",
              "<style scoped>\n",
              "    .dataframe tbody tr th:only-of-type {\n",
              "        vertical-align: middle;\n",
              "    }\n",
              "\n",
              "    .dataframe tbody tr th {\n",
              "        vertical-align: top;\n",
              "    }\n",
              "\n",
              "    .dataframe thead th {\n",
              "        text-align: right;\n",
              "    }\n",
              "</style>\n",
              "<table border=\"1\" class=\"dataframe\">\n",
              "  <thead>\n",
              "    <tr style=\"text-align: right;\">\n",
              "      <th></th>\n",
              "      <th>id</th>\n",
              "      <th>comment_text</th>\n",
              "      <th>toxic</th>\n",
              "    </tr>\n",
              "  </thead>\n",
              "  <tbody>\n",
              "    <tr>\n",
              "      <th>0</th>\n",
              "      <td>0000997932d777bf</td>\n",
              "      <td>explanation why the edits made under my userna...</td>\n",
              "      <td>0</td>\n",
              "    </tr>\n",
              "    <tr>\n",
              "      <th>1</th>\n",
              "      <td>000103f0d9cfb60f</td>\n",
              "      <td>d aww  he matches this background colour i m s...</td>\n",
              "      <td>0</td>\n",
              "    </tr>\n",
              "    <tr>\n",
              "      <th>2</th>\n",
              "      <td>000113f07ec002fd</td>\n",
              "      <td>hey man  i m really not trying to edit war  it...</td>\n",
              "      <td>0</td>\n",
              "    </tr>\n",
              "    <tr>\n",
              "      <th>3</th>\n",
              "      <td>0001b41b1c6bb37e</td>\n",
              "      <td>more i can t make any real suggestions on im...</td>\n",
              "      <td>0</td>\n",
              "    </tr>\n",
              "    <tr>\n",
              "      <th>4</th>\n",
              "      <td>0001d958c54c6e35</td>\n",
              "      <td>you  sir  are my hero  any chance you remember...</td>\n",
              "      <td>0</td>\n",
              "    </tr>\n",
              "  </tbody>\n",
              "</table>\n",
              "</div>"
            ],
            "text/plain": [
              "                 id                                       comment_text  toxic\n",
              "0  0000997932d777bf  explanation why the edits made under my userna...      0\n",
              "1  000103f0d9cfb60f  d aww  he matches this background colour i m s...      0\n",
              "2  000113f07ec002fd  hey man  i m really not trying to edit war  it...      0\n",
              "3  0001b41b1c6bb37e    more i can t make any real suggestions on im...      0\n",
              "4  0001d958c54c6e35  you  sir  are my hero  any chance you remember...      0"
            ]
          },
          "metadata": {
            "tags": []
          },
          "execution_count": 30
        }
      ]
    },
    {
      "cell_type": "code",
      "metadata": {
        "colab": {
          "base_uri": "https://localhost:8080/"
        },
        "id": "fViKRjUhVutU",
        "outputId": "37fba097-4c6e-491b-f741-c636fb90438c"
      },
      "source": [
        "data_tox_1 = data_tox[data_tox['toxic'] == 1].iloc[0:5000,:]\r\n",
        "data_tox_1.shape"
      ],
      "execution_count": 31,
      "outputs": [
        {
          "output_type": "execute_result",
          "data": {
            "text/plain": [
              "(5000, 3)"
            ]
          },
          "metadata": {
            "tags": []
          },
          "execution_count": 31
        }
      ]
    },
    {
      "cell_type": "code",
      "metadata": {
        "id": "BGbQ5iTMV150"
      },
      "source": [
        "data_tox_0 = data_tox[data_tox['toxic'] == 0].iloc[0:5000,:]"
      ],
      "execution_count": 32,
      "outputs": []
    },
    {
      "cell_type": "code",
      "metadata": {
        "colab": {
          "base_uri": "https://localhost:8080/"
        },
        "id": "D1ls1kS4V3r3",
        "outputId": "cd653aa1-c5b8-4ed9-d023-00a0e63da02a"
      },
      "source": [
        "data_tox_done = pd.concat([data_tox_1, data_tox_0], axis=0)\r\n",
        "data_tox_done.shape"
      ],
      "execution_count": 33,
      "outputs": [
        {
          "output_type": "execute_result",
          "data": {
            "text/plain": [
              "(10000, 3)"
            ]
          },
          "metadata": {
            "tags": []
          },
          "execution_count": 33
        }
      ]
    },
    {
      "cell_type": "markdown",
      "metadata": {
        "id": "zqx7BBFuWqRM"
      },
      "source": [
        "Not all categories have 5000 rows. So we should count them first and make them balanced."
      ]
    },
    {
      "cell_type": "code",
      "metadata": {
        "colab": {
          "base_uri": "https://localhost:8080/"
        },
        "id": "5MjXGXQtWuBe",
        "outputId": "f57754f5-3a4b-4b92-9837-057a16bc5efa"
      },
      "source": [
        "data_sev[data_sev['severe_toxic'] == 1].count()"
      ],
      "execution_count": 34,
      "outputs": [
        {
          "output_type": "execute_result",
          "data": {
            "text/plain": [
              "id              1595\n",
              "comment_text    1595\n",
              "severe_toxic    1595\n",
              "dtype: int64"
            ]
          },
          "metadata": {
            "tags": []
          },
          "execution_count": 34
        }
      ]
    },
    {
      "cell_type": "code",
      "metadata": {
        "colab": {
          "base_uri": "https://localhost:8080/"
        },
        "id": "YyRv6hPNWyJ4",
        "outputId": "4a861e2f-0612-434a-c937-4fbb27459171"
      },
      "source": [
        "data_sev_1 = data_sev[data_sev['severe_toxic'] == 1].iloc[0:1595,:]\r\n",
        "data_sev_0 = data_sev[data_sev['severe_toxic'] == 0].iloc[0:1595,:]\r\n",
        "data_sev_done = pd.concat([data_sev_1, data_sev_0], axis=0)\r\n",
        "data_sev_done.shape"
      ],
      "execution_count": 35,
      "outputs": [
        {
          "output_type": "execute_result",
          "data": {
            "text/plain": [
              "(3190, 3)"
            ]
          },
          "metadata": {
            "tags": []
          },
          "execution_count": 35
        }
      ]
    },
    {
      "cell_type": "markdown",
      "metadata": {
        "id": "8WIBB5ZkXAER"
      },
      "source": [
        "Cool. We only had 1,595 comments that are severely toxic. We combine it together with another 1,595 comments that are not toxic to form a new dataset that is balanced. We repeat this for all other categories."
      ]
    },
    {
      "cell_type": "code",
      "metadata": {
        "colab": {
          "base_uri": "https://localhost:8080/"
        },
        "id": "2mvzocjVXBbh",
        "outputId": "e61199b3-e347-4532-9faf-89ce8eac3ab3"
      },
      "source": [
        "data_obs[data_obs['obscene'] == 1].count()"
      ],
      "execution_count": 36,
      "outputs": [
        {
          "output_type": "execute_result",
          "data": {
            "text/plain": [
              "id              8449\n",
              "comment_text    8449\n",
              "obscene         8449\n",
              "dtype: int64"
            ]
          },
          "metadata": {
            "tags": []
          },
          "execution_count": 36
        }
      ]
    },
    {
      "cell_type": "code",
      "metadata": {
        "colab": {
          "base_uri": "https://localhost:8080/"
        },
        "id": "Y0FEzJ0xXHaF",
        "outputId": "0c4d5316-5240-40a0-ba1a-0ff87103fc2a"
      },
      "source": [
        "data_obs_1 = data_obs[data_obs['obscene'] == 1].iloc[0:5000,:]\r\n",
        "data_obs_0 = data_obs[data_obs['obscene'] == 0].iloc[0:5000,:]\r\n",
        "data_obs_done = pd.concat([data_obs_1, data_obs_0], axis=0)\r\n",
        "data_obs_done.shape"
      ],
      "execution_count": 37,
      "outputs": [
        {
          "output_type": "execute_result",
          "data": {
            "text/plain": [
              "(10000, 3)"
            ]
          },
          "metadata": {
            "tags": []
          },
          "execution_count": 37
        }
      ]
    },
    {
      "cell_type": "code",
      "metadata": {
        "colab": {
          "base_uri": "https://localhost:8080/"
        },
        "id": "5y7tLr2wXTft",
        "outputId": "a239e2b2-70cf-40f5-e3ab-9ea242c91dcf"
      },
      "source": [
        "data_thr[data_thr['threat'] == 1].count()"
      ],
      "execution_count": 38,
      "outputs": [
        {
          "output_type": "execute_result",
          "data": {
            "text/plain": [
              "id              478\n",
              "comment_text    478\n",
              "threat          478\n",
              "dtype: int64"
            ]
          },
          "metadata": {
            "tags": []
          },
          "execution_count": 38
        }
      ]
    },
    {
      "cell_type": "markdown",
      "metadata": {
        "id": "n37O1lSVXYZm"
      },
      "source": [
        "The number of threat comments of 478 is too miniscule when addded with another 478 clean comments for a proper analysis. We decided that the clean comments will comprise 80% at the most of the dataset, as shown below."
      ]
    },
    {
      "cell_type": "code",
      "metadata": {
        "colab": {
          "base_uri": "https://localhost:8080/"
        },
        "id": "72YK8a72XZio",
        "outputId": "0938d671-a1a7-45f2-f5e0-16439507064f"
      },
      "source": [
        "data_thr_1 = data_thr[data_thr['threat'] == 1].iloc[0:478,:]\r\n",
        "\r\n",
        "# We include 1912 comments that have no threat so that the data with threat (478) will represent 20% of the dataset.\r\n",
        "data_thr_0 = data_thr[data_thr['threat'] == 0].iloc[0:1912,:]  \r\n",
        "data_thr_done = pd.concat([data_thr_1, data_thr_0], axis=0)\r\n",
        "data_thr_done.shape"
      ],
      "execution_count": 39,
      "outputs": [
        {
          "output_type": "execute_result",
          "data": {
            "text/plain": [
              "(2390, 3)"
            ]
          },
          "metadata": {
            "tags": []
          },
          "execution_count": 39
        }
      ]
    },
    {
      "cell_type": "code",
      "metadata": {
        "colab": {
          "base_uri": "https://localhost:8080/"
        },
        "id": "JyKXRVSlXgwy",
        "outputId": "fd42c31a-42e0-40a5-b121-81e6ecc6e7e0"
      },
      "source": [
        "data_ins[data_ins['insult'] == 1].count()"
      ],
      "execution_count": 40,
      "outputs": [
        {
          "output_type": "execute_result",
          "data": {
            "text/plain": [
              "id              7877\n",
              "comment_text    7877\n",
              "insult          7877\n",
              "dtype: int64"
            ]
          },
          "metadata": {
            "tags": []
          },
          "execution_count": 40
        }
      ]
    },
    {
      "cell_type": "code",
      "metadata": {
        "colab": {
          "base_uri": "https://localhost:8080/"
        },
        "id": "oys1dpIZXld5",
        "outputId": "ae478cfd-01e3-413f-c950-135d084ce1f2"
      },
      "source": [
        "data_ins_1 = data_ins[data_ins['insult'] == 1].iloc[0:5000,:]\r\n",
        "data_ins_0 = data_ins[data_ins['insult'] == 0].iloc[0:5000,:]\r\n",
        "data_ins_done = pd.concat([data_ins_1, data_ins_0], axis=0)\r\n",
        "data_ins_done.shape"
      ],
      "execution_count": 41,
      "outputs": [
        {
          "output_type": "execute_result",
          "data": {
            "text/plain": [
              "(10000, 3)"
            ]
          },
          "metadata": {
            "tags": []
          },
          "execution_count": 41
        }
      ]
    },
    {
      "cell_type": "code",
      "metadata": {
        "colab": {
          "base_uri": "https://localhost:8080/"
        },
        "id": "jg-LgeLZXqo2",
        "outputId": "a4ecd136-4c58-4942-c066-db0011b7218b"
      },
      "source": [
        "data_ide[data_ide['identity_hate'] == 1].count()"
      ],
      "execution_count": 42,
      "outputs": [
        {
          "output_type": "execute_result",
          "data": {
            "text/plain": [
              "id               1405\n",
              "comment_text     1405\n",
              "identity_hate    1405\n",
              "dtype: int64"
            ]
          },
          "metadata": {
            "tags": []
          },
          "execution_count": 42
        }
      ]
    },
    {
      "cell_type": "code",
      "metadata": {
        "colab": {
          "base_uri": "https://localhost:8080/"
        },
        "id": "uRiSv0lAXwz6",
        "outputId": "bc7db729-b1e9-4f5b-ec79-3cea72e9ecb9"
      },
      "source": [
        "\r\n",
        "data_ide_1 = data_ide[data_ide['identity_hate'] == 1].iloc[0:1405,:] # 20%\r\n",
        "data_ide_0 = data_ide[data_ide['identity_hate'] == 0].iloc[0:5620,:] # 80%\r\n",
        "data_ide_done = pd.concat([data_ide_1, data_ide_0], axis=0)\r\n",
        "data_ide_done.shape"
      ],
      "execution_count": 43,
      "outputs": [
        {
          "output_type": "execute_result",
          "data": {
            "text/plain": [
              "(7025, 3)"
            ]
          },
          "metadata": {
            "tags": []
          },
          "execution_count": 43
        }
      ]
    },
    {
      "cell_type": "markdown",
      "metadata": {
        "id": "PeehsBR3X3K5"
      },
      "source": [
        "\r\n",
        "Reminder: Number of comments that fall into the following categories:\r\n",
        "\r\n",
        "Toxic (14,000+)\r\n",
        "\r\n",
        "\r\n",
        "Severe Toxic (1595)\r\n",
        "\r\n",
        "Obscene (8449)\r\n",
        "\r\n",
        "\r\n",
        "Threat (478)\r\n",
        "\r\n",
        "\r\n",
        "Insult (7877)\r\n",
        "\r\n",
        "\r\n",
        "Identity Hate (1405)\r\n",
        "\r\n",
        "\r\n",
        "\r\n",
        "\r\n",
        "df_**_done refers to the dataframes of each class that has been balanced (at least 20/80 proportion)\r\n",
        "\r\n",
        "\r\n",
        "DF name\tNo. of pts (1)\tNo. of pts (0)\tTotal data pts\r\n",
        "\r\n",
        "\r\n",
        "Toxic\tdata_tox_done \t5000  \t5000\t  10000\r\n",
        "\r\n",
        "\r\n",
        "Severe Toxic  \tdata_sev_done  \t1595  \t1595  \t3190\r\n",
        "\r\n",
        "\r\n",
        "Obscene (8449)   \tdata_obs_done\t    5000  \t5000    \t10000\r\n",
        "\r\n",
        "\r\n",
        "Threat (478)\tdata_thr_done\t478\t1912\t2390\r\n",
        "\r\n",
        "\r\n",
        "Insult (7877)\tdata_ins_done\t5000\t5000\t10000\r\n",
        "\r\n",
        "\r\n",
        "Identity Hate (1405)\tdata_ide_done\t1405   \t5620     \t7025"
      ]
    },
    {
      "cell_type": "markdown",
      "metadata": {
        "id": "lnqs7lduYo6Y"
      },
      "source": [
        "Import relevant packages for modelling"
      ]
    },
    {
      "cell_type": "code",
      "metadata": {
        "id": "HUzG4UAaYzPv"
      },
      "source": [
        "# Import packages for pre-processing\r\n",
        "from sklearn import preprocessing\r\n",
        "from sklearn.feature_selection import SelectFromModel\r\n",
        "\r\n",
        "# Import tools to split data and evaluate model performance\r\n",
        "from sklearn.model_selection import train_test_split, KFold, cross_val_score\r\n",
        "from sklearn.metrics import f1_score, precision_score, recall_score, precision_recall_curve, fbeta_score, confusion_matrix\r\n",
        "from sklearn.metrics import roc_auc_score, roc_curve\r\n",
        "\r\n",
        "# Import ML algos\r\n",
        "from sklearn.linear_model import LogisticRegression\r\n",
        "from sklearn.neighbors import KNeighborsClassifier\r\n",
        "from sklearn.naive_bayes import MultinomialNB, BernoulliNB\r\n",
        "from sklearn.svm import LinearSVC\r\n",
        "from sklearn.ensemble import RandomForestClassifier"
      ],
      "execution_count": 44,
      "outputs": []
    },
    {
      "cell_type": "code",
      "metadata": {
        "id": "WkPwPfZeY57u"
      },
      "source": [
        "def cv_tf_train_test(df_done,label,vectorizer,ngram):\r\n",
        "\r\n",
        "    ''' Train/Test split'''\r\n",
        "    # Split the data into X and y data sets\r\n",
        "    X = df_done.comment_text\r\n",
        "    y = df_done[label]\r\n",
        "\r\n",
        "    # Split our data into training and test data \r\n",
        "    X_train, X_test, y_train, y_test = train_test_split(X, y, test_size=0.3, random_state=42)\r\n",
        "\r\n",
        "    ''' Count Vectorizer/TF-IDF '''\r\n",
        "\r\n",
        "    # Create a Vectorizer object and remove stopwords from the table\r\n",
        "    cv1 = vectorizer(ngram_range=(ngram), stop_words='english')\r\n",
        "    \r\n",
        "    X_train_cv1 = cv1.fit_transform(X_train) # Learn the vocabulary dictionary and return term-document matrix\r\n",
        "    X_test_cv1  = cv1.transform(X_test)      # Learn a vocabulary dictionary of all tokens in the raw documents.\r\n",
        "    \r\n",
        "    # Output a Dataframe of the CountVectorizer with unique words as the labels\r\n",
        "    # test = pd.DataFrame(X_train_cv1.toarray(), columns=cv1.get_feature_names())\r\n",
        "        \r\n",
        "    ''' Initialize all model objects and fit the models on the training data '''\r\n",
        "    lr = LogisticRegression()\r\n",
        "    lr.fit(X_train_cv1, y_train)\r\n",
        "    print('lr done')\r\n",
        "\r\n",
        "    knn = KNeighborsClassifier(n_neighbors=5)\r\n",
        "    knn.fit(X_train_cv1, y_train)\r\n",
        "\r\n",
        "    bnb = BernoulliNB()\r\n",
        "    bnb.fit(X_train_cv1, y_train)\r\n",
        "    print('bnb done')\r\n",
        "    \r\n",
        "    mnb = MultinomialNB()\r\n",
        "    mnb.fit(X_train_cv1, y_train)\r\n",
        "    print('mnb done')\r\n",
        "    \r\n",
        "    svm_model = LinearSVC()\r\n",
        "    svm_model.fit(X_train_cv1, y_train)\r\n",
        "\r\n",
        "    randomforest = RandomForestClassifier(n_estimators=100, random_state=42)\r\n",
        "    randomforest.fit(X_train_cv1, y_train)\r\n",
        "    print('rdf done')\r\n",
        "    \r\n",
        "    # Create a list of F1 score of all models \r\n",
        "    f1_score_data = {'F1 Score':[f1_score(lr.predict(X_test_cv1), y_test), f1_score(knn.predict(X_test_cv1), y_test), \r\n",
        "                                f1_score(bnb.predict(X_test_cv1), y_test), f1_score(mnb.predict(X_test_cv1), y_test),\r\n",
        "                                f1_score(svm_model.predict(X_test_cv1), y_test), f1_score(randomforest.predict(X_test_cv1), y_test)]} \r\n",
        "                          \r\n",
        "    # Create DataFrame with the model names as column labels\r\n",
        "    df_f1 = pd.DataFrame(f1_score_data, index=['Log Regression','KNN', 'BernoulliNB', 'MultinomialNB', 'SVM', 'Random Forest'])  \r\n",
        "\r\n",
        "    return df_f1"
      ],
      "execution_count": 45,
      "outputs": []
    },
    {
      "cell_type": "code",
      "metadata": {
        "colab": {
          "base_uri": "https://localhost:8080/",
          "height": 320
        },
        "id": "gfsQdd-6Zi_i",
        "outputId": "75bdf656-b723-497c-9c3f-bee5e20e0458"
      },
      "source": [
        "\r\n",
        "import time\r\n",
        "\r\n",
        "t0 = time.time()\r\n",
        "\r\n",
        "df_tox_cv = cv_tf_train_test(data_tox_done, 'toxic', TfidfVectorizer, (1,1))\r\n",
        "df_tox_cv.rename(columns={'F1 Score': 'F1 Score(toxic)'}, inplace=True)\r\n",
        "\r\n",
        "t1 = time.time()\r\n",
        "\r\n",
        "total = 'Time taken: {} seconds'.format(t1-t0)\r\n",
        "print(total)\r\n",
        "\r\n",
        "df_tox_cv\r\n",
        "\r\n",
        "# Various permutations of the dataset, category, vectorizer and n-gram\r\n",
        "\r\n",
        "# cv_tf_train_test(data_tox_done, 'toxic', CountVectorizer, (1,1))\r\n",
        "# cv_tf_train_test(data_sev_done, 'severe_toxic', CountVectorizer, (1,1))\r\n",
        "# cv_tf_train_test(data_obs_done, 'obscene', CountVectorizer, (1,1))\r\n",
        "# cv_tf_train_test(data_thr_done, 'threat', CountVectorizer, (1,1))\r\n",
        "# cv_tf_train_test(data_ins_done, 'insult', CountVectorizer, (1,1))\r\n",
        "# cv_tf_train_test(data_ide_done, 'identity_hate', CountVectorizer, (1,1))\r\n",
        "\r\n",
        "# cv_tf_train_test(data_tox_done, 'toxic', TfidfVectorizer, (1,1))\r\n",
        "# cv_tf_train_test(data_sev_done, 'severe_toxic', TfidfVectorizer, (1,1))\r\n",
        "# cv_tf_train_test(data_obs_done, 'obscene', TfidfVectorizer, (1,1))\r\n",
        "# cv_tf_train_test(data_thr_done, 'threat', TfidfVectorizer, (1,1))\r\n",
        "# cv_tf_train_test(data_ins_done, 'insult', TfidfVectorizer, (1,1))\r\n",
        "# cv_tf_train_test(data_ide_done, 'identity_hate', TfidfVectorizer, (1,1))"
      ],
      "execution_count": 46,
      "outputs": [
        {
          "output_type": "stream",
          "text": [
            "lr done\n",
            "bnb done\n",
            "mnb done\n",
            "rdf done\n",
            "Time taken: 10.384116411209106 seconds\n"
          ],
          "name": "stdout"
        },
        {
          "output_type": "execute_result",
          "data": {
            "text/html": [
              "<div>\n",
              "<style scoped>\n",
              "    .dataframe tbody tr th:only-of-type {\n",
              "        vertical-align: middle;\n",
              "    }\n",
              "\n",
              "    .dataframe tbody tr th {\n",
              "        vertical-align: top;\n",
              "    }\n",
              "\n",
              "    .dataframe thead th {\n",
              "        text-align: right;\n",
              "    }\n",
              "</style>\n",
              "<table border=\"1\" class=\"dataframe\">\n",
              "  <thead>\n",
              "    <tr style=\"text-align: right;\">\n",
              "      <th></th>\n",
              "      <th>F1 Score(toxic)</th>\n",
              "    </tr>\n",
              "  </thead>\n",
              "  <tbody>\n",
              "    <tr>\n",
              "      <th>Log Regression</th>\n",
              "      <td>0.861234</td>\n",
              "    </tr>\n",
              "    <tr>\n",
              "      <th>KNN</th>\n",
              "      <td>0.185120</td>\n",
              "    </tr>\n",
              "    <tr>\n",
              "      <th>BernoulliNB</th>\n",
              "      <td>0.776521</td>\n",
              "    </tr>\n",
              "    <tr>\n",
              "      <th>MultinomialNB</th>\n",
              "      <td>0.874958</td>\n",
              "    </tr>\n",
              "    <tr>\n",
              "      <th>SVM</th>\n",
              "      <td>0.876133</td>\n",
              "    </tr>\n",
              "    <tr>\n",
              "      <th>Random Forest</th>\n",
              "      <td>0.838055</td>\n",
              "    </tr>\n",
              "  </tbody>\n",
              "</table>\n",
              "</div>"
            ],
            "text/plain": [
              "                F1 Score(toxic)\n",
              "Log Regression         0.861234\n",
              "KNN                    0.185120\n",
              "BernoulliNB            0.776521\n",
              "MultinomialNB          0.874958\n",
              "SVM                    0.876133\n",
              "Random Forest          0.838055"
            ]
          },
          "metadata": {
            "tags": []
          },
          "execution_count": 46
        }
      ]
    },
    {
      "cell_type": "code",
      "metadata": {
        "colab": {
          "base_uri": "https://localhost:8080/",
          "height": 320
        },
        "id": "Msq7qYSBYv3N",
        "outputId": "4f1ea93d-d369-426f-dcde-39d5950b9177"
      },
      "source": [
        "t0 = time.time()\r\n",
        "\r\n",
        "df_sev_cv = cv_tf_train_test(data_sev_done, 'severe_toxic', TfidfVectorizer, (1,1))\r\n",
        "df_sev_cv.rename(columns={'F1 Score': 'F1 Score(severe_toxic)'}, inplace=True)\r\n",
        "\r\n",
        "t1 = time.time()\r\n",
        "\r\n",
        "total = 'Time taken: {} seconds'.format(t1-t0)\r\n",
        "print(total)\r\n",
        "df_sev_cv"
      ],
      "execution_count": 47,
      "outputs": [
        {
          "output_type": "stream",
          "text": [
            "lr done\n",
            "bnb done\n",
            "mnb done\n",
            "rdf done\n",
            "Time taken: 1.9468770027160645 seconds\n"
          ],
          "name": "stdout"
        },
        {
          "output_type": "execute_result",
          "data": {
            "text/html": [
              "<div>\n",
              "<style scoped>\n",
              "    .dataframe tbody tr th:only-of-type {\n",
              "        vertical-align: middle;\n",
              "    }\n",
              "\n",
              "    .dataframe tbody tr th {\n",
              "        vertical-align: top;\n",
              "    }\n",
              "\n",
              "    .dataframe thead th {\n",
              "        text-align: right;\n",
              "    }\n",
              "</style>\n",
              "<table border=\"1\" class=\"dataframe\">\n",
              "  <thead>\n",
              "    <tr style=\"text-align: right;\">\n",
              "      <th></th>\n",
              "      <th>F1 Score(severe_toxic)</th>\n",
              "    </tr>\n",
              "  </thead>\n",
              "  <tbody>\n",
              "    <tr>\n",
              "      <th>Log Regression</th>\n",
              "      <td>0.927879</td>\n",
              "    </tr>\n",
              "    <tr>\n",
              "      <th>KNN</th>\n",
              "      <td>0.857416</td>\n",
              "    </tr>\n",
              "    <tr>\n",
              "      <th>BernoulliNB</th>\n",
              "      <td>0.803707</td>\n",
              "    </tr>\n",
              "    <tr>\n",
              "      <th>MultinomialNB</th>\n",
              "      <td>0.936170</td>\n",
              "    </tr>\n",
              "    <tr>\n",
              "      <th>SVM</th>\n",
              "      <td>0.926004</td>\n",
              "    </tr>\n",
              "    <tr>\n",
              "      <th>Random Forest</th>\n",
              "      <td>0.934874</td>\n",
              "    </tr>\n",
              "  </tbody>\n",
              "</table>\n",
              "</div>"
            ],
            "text/plain": [
              "                F1 Score(severe_toxic)\n",
              "Log Regression                0.927879\n",
              "KNN                           0.857416\n",
              "BernoulliNB                   0.803707\n",
              "MultinomialNB                 0.936170\n",
              "SVM                           0.926004\n",
              "Random Forest                 0.934874"
            ]
          },
          "metadata": {
            "tags": []
          },
          "execution_count": 47
        }
      ]
    },
    {
      "cell_type": "code",
      "metadata": {
        "colab": {
          "base_uri": "https://localhost:8080/",
          "height": 320
        },
        "id": "aV0DdbTNVBmn",
        "outputId": "ccede70d-9d5e-4015-9cb7-bc5abb9ab4e0"
      },
      "source": [
        "t0 = time.time()\r\n",
        "\r\n",
        "df_obs_cv = cv_tf_train_test(data_obs_done, 'obscene', TfidfVectorizer, (1,1))\r\n",
        "df_obs_cv.rename(columns={'F1 Score': 'F1 Score(obscene)'}, inplace=True)\r\n",
        "\r\n",
        "t1 = time.time()\r\n",
        "\r\n",
        "total = 'Time taken: {} seconds'.format(t1-t0)\r\n",
        "print(total)\r\n",
        "\r\n",
        "df_obs_cv"
      ],
      "execution_count": 48,
      "outputs": [
        {
          "output_type": "stream",
          "text": [
            "lr done\n",
            "bnb done\n",
            "mnb done\n",
            "rdf done\n",
            "Time taken: 9.534844398498535 seconds\n"
          ],
          "name": "stdout"
        },
        {
          "output_type": "execute_result",
          "data": {
            "text/html": [
              "<div>\n",
              "<style scoped>\n",
              "    .dataframe tbody tr th:only-of-type {\n",
              "        vertical-align: middle;\n",
              "    }\n",
              "\n",
              "    .dataframe tbody tr th {\n",
              "        vertical-align: top;\n",
              "    }\n",
              "\n",
              "    .dataframe thead th {\n",
              "        text-align: right;\n",
              "    }\n",
              "</style>\n",
              "<table border=\"1\" class=\"dataframe\">\n",
              "  <thead>\n",
              "    <tr style=\"text-align: right;\">\n",
              "      <th></th>\n",
              "      <th>F1 Score(obscene)</th>\n",
              "    </tr>\n",
              "  </thead>\n",
              "  <tbody>\n",
              "    <tr>\n",
              "      <th>Log Regression</th>\n",
              "      <td>0.908655</td>\n",
              "    </tr>\n",
              "    <tr>\n",
              "      <th>KNN</th>\n",
              "      <td>0.519056</td>\n",
              "    </tr>\n",
              "    <tr>\n",
              "      <th>BernoulliNB</th>\n",
              "      <td>0.787830</td>\n",
              "    </tr>\n",
              "    <tr>\n",
              "      <th>MultinomialNB</th>\n",
              "      <td>0.901463</td>\n",
              "    </tr>\n",
              "    <tr>\n",
              "      <th>SVM</th>\n",
              "      <td>0.921378</td>\n",
              "    </tr>\n",
              "    <tr>\n",
              "      <th>Random Forest</th>\n",
              "      <td>0.909091</td>\n",
              "    </tr>\n",
              "  </tbody>\n",
              "</table>\n",
              "</div>"
            ],
            "text/plain": [
              "                F1 Score(obscene)\n",
              "Log Regression           0.908655\n",
              "KNN                      0.519056\n",
              "BernoulliNB              0.787830\n",
              "MultinomialNB            0.901463\n",
              "SVM                      0.921378\n",
              "Random Forest            0.909091"
            ]
          },
          "metadata": {
            "tags": []
          },
          "execution_count": 48
        }
      ]
    },
    {
      "cell_type": "code",
      "metadata": {
        "colab": {
          "base_uri": "https://localhost:8080/",
          "height": 320
        },
        "id": "VSSPNaxOaDMi",
        "outputId": "afe24e72-2785-4ef7-87c5-5100dd39d60d"
      },
      "source": [
        "t0 = time.time()\r\n",
        "\r\n",
        "df_thr_cv = cv_tf_train_test(data_thr_done, 'threat', TfidfVectorizer, (1,1))\r\n",
        "df_thr_cv.rename(columns={'F1 Score': 'F1 Score(threat)'}, inplace=True)\r\n",
        "\r\n",
        "t1 = time.time()\r\n",
        "\r\n",
        "total = 'Time taken: {} seconds'.format(t1-t0)\r\n",
        "print(total)\r\n",
        "\r\n",
        "df_thr_cv"
      ],
      "execution_count": 49,
      "outputs": [
        {
          "output_type": "stream",
          "text": [
            "lr done\n",
            "bnb done\n",
            "mnb done\n",
            "rdf done\n",
            "Time taken: 1.275810718536377 seconds\n"
          ],
          "name": "stdout"
        },
        {
          "output_type": "execute_result",
          "data": {
            "text/html": [
              "<div>\n",
              "<style scoped>\n",
              "    .dataframe tbody tr th:only-of-type {\n",
              "        vertical-align: middle;\n",
              "    }\n",
              "\n",
              "    .dataframe tbody tr th {\n",
              "        vertical-align: top;\n",
              "    }\n",
              "\n",
              "    .dataframe thead th {\n",
              "        text-align: right;\n",
              "    }\n",
              "</style>\n",
              "<table border=\"1\" class=\"dataframe\">\n",
              "  <thead>\n",
              "    <tr style=\"text-align: right;\">\n",
              "      <th></th>\n",
              "      <th>F1 Score(threat)</th>\n",
              "    </tr>\n",
              "  </thead>\n",
              "  <tbody>\n",
              "    <tr>\n",
              "      <th>Log Regression</th>\n",
              "      <td>0.628821</td>\n",
              "    </tr>\n",
              "    <tr>\n",
              "      <th>KNN</th>\n",
              "      <td>0.720000</td>\n",
              "    </tr>\n",
              "    <tr>\n",
              "      <th>BernoulliNB</th>\n",
              "      <td>0.311828</td>\n",
              "    </tr>\n",
              "    <tr>\n",
              "      <th>MultinomialNB</th>\n",
              "      <td>0.504762</td>\n",
              "    </tr>\n",
              "    <tr>\n",
              "      <th>SVM</th>\n",
              "      <td>0.786765</td>\n",
              "    </tr>\n",
              "    <tr>\n",
              "      <th>Random Forest</th>\n",
              "      <td>0.795539</td>\n",
              "    </tr>\n",
              "  </tbody>\n",
              "</table>\n",
              "</div>"
            ],
            "text/plain": [
              "                F1 Score(threat)\n",
              "Log Regression          0.628821\n",
              "KNN                     0.720000\n",
              "BernoulliNB             0.311828\n",
              "MultinomialNB           0.504762\n",
              "SVM                     0.786765\n",
              "Random Forest           0.795539"
            ]
          },
          "metadata": {
            "tags": []
          },
          "execution_count": 49
        }
      ]
    },
    {
      "cell_type": "code",
      "metadata": {
        "colab": {
          "base_uri": "https://localhost:8080/",
          "height": 320
        },
        "id": "bsZ68ECaaJpX",
        "outputId": "95b4fdab-9f1d-4a26-d4bf-618dd1e2dcc1"
      },
      "source": [
        "\r\n",
        "t0 = time.time()\r\n",
        "\r\n",
        "df_ins_cv = cv_tf_train_test(data_ins_done, 'insult', TfidfVectorizer, (1,1))\r\n",
        "df_ins_cv.rename(columns={'F1 Score': 'F1 Score(insult)'}, inplace=True)\r\n",
        "\r\n",
        "t1 = time.time()\r\n",
        "\r\n",
        "total = 'Time taken: {} seconds'.format(t1-t0)\r\n",
        "print(total)\r\n",
        "\r\n",
        "df_ins_cv"
      ],
      "execution_count": 50,
      "outputs": [
        {
          "output_type": "stream",
          "text": [
            "lr done\n",
            "bnb done\n",
            "mnb done\n",
            "rdf done\n",
            "Time taken: 9.871785640716553 seconds\n"
          ],
          "name": "stdout"
        },
        {
          "output_type": "execute_result",
          "data": {
            "text/html": [
              "<div>\n",
              "<style scoped>\n",
              "    .dataframe tbody tr th:only-of-type {\n",
              "        vertical-align: middle;\n",
              "    }\n",
              "\n",
              "    .dataframe tbody tr th {\n",
              "        vertical-align: top;\n",
              "    }\n",
              "\n",
              "    .dataframe thead th {\n",
              "        text-align: right;\n",
              "    }\n",
              "</style>\n",
              "<table border=\"1\" class=\"dataframe\">\n",
              "  <thead>\n",
              "    <tr style=\"text-align: right;\">\n",
              "      <th></th>\n",
              "      <th>F1 Score(insult)</th>\n",
              "    </tr>\n",
              "  </thead>\n",
              "  <tbody>\n",
              "    <tr>\n",
              "      <th>Log Regression</th>\n",
              "      <td>0.896599</td>\n",
              "    </tr>\n",
              "    <tr>\n",
              "      <th>KNN</th>\n",
              "      <td>0.257992</td>\n",
              "    </tr>\n",
              "    <tr>\n",
              "      <th>BernoulliNB</th>\n",
              "      <td>0.783762</td>\n",
              "    </tr>\n",
              "    <tr>\n",
              "      <th>MultinomialNB</th>\n",
              "      <td>0.897411</td>\n",
              "    </tr>\n",
              "    <tr>\n",
              "      <th>SVM</th>\n",
              "      <td>0.902619</td>\n",
              "    </tr>\n",
              "    <tr>\n",
              "      <th>Random Forest</th>\n",
              "      <td>0.883993</td>\n",
              "    </tr>\n",
              "  </tbody>\n",
              "</table>\n",
              "</div>"
            ],
            "text/plain": [
              "                F1 Score(insult)\n",
              "Log Regression          0.896599\n",
              "KNN                     0.257992\n",
              "BernoulliNB             0.783762\n",
              "MultinomialNB           0.897411\n",
              "SVM                     0.902619\n",
              "Random Forest           0.883993"
            ]
          },
          "metadata": {
            "tags": []
          },
          "execution_count": 50
        }
      ]
    },
    {
      "cell_type": "code",
      "metadata": {
        "colab": {
          "base_uri": "https://localhost:8080/",
          "height": 320
        },
        "id": "6eHZggUYahew",
        "outputId": "91e4372d-e639-4d45-f721-e90e9cd212e7"
      },
      "source": [
        "t0 = time.time()\r\n",
        "\r\n",
        "df_ide_cv = cv_tf_train_test(data_ide_done, 'identity_hate', TfidfVectorizer, (1,1))\r\n",
        "df_ide_cv.rename(columns={'F1 Score': 'F1 Score(identity_hate)'}, inplace=True)\r\n",
        "\r\n",
        "t1 = time.time()\r\n",
        "\r\n",
        "total = 'Time taken: {} seconds'.format(t1-t0)\r\n",
        "print(total)\r\n",
        "\r\n",
        "df_ide_cv"
      ],
      "execution_count": 51,
      "outputs": [
        {
          "output_type": "stream",
          "text": [
            "lr done\n",
            "bnb done\n",
            "mnb done\n",
            "rdf done\n",
            "Time taken: 5.539366960525513 seconds\n"
          ],
          "name": "stdout"
        },
        {
          "output_type": "execute_result",
          "data": {
            "text/html": [
              "<div>\n",
              "<style scoped>\n",
              "    .dataframe tbody tr th:only-of-type {\n",
              "        vertical-align: middle;\n",
              "    }\n",
              "\n",
              "    .dataframe tbody tr th {\n",
              "        vertical-align: top;\n",
              "    }\n",
              "\n",
              "    .dataframe thead th {\n",
              "        text-align: right;\n",
              "    }\n",
              "</style>\n",
              "<table border=\"1\" class=\"dataframe\">\n",
              "  <thead>\n",
              "    <tr style=\"text-align: right;\">\n",
              "      <th></th>\n",
              "      <th>F1 Score(identity_hate)</th>\n",
              "    </tr>\n",
              "  </thead>\n",
              "  <tbody>\n",
              "    <tr>\n",
              "      <th>Log Regression</th>\n",
              "      <td>0.699029</td>\n",
              "    </tr>\n",
              "    <tr>\n",
              "      <th>KNN</th>\n",
              "      <td>0.230159</td>\n",
              "    </tr>\n",
              "    <tr>\n",
              "      <th>BernoulliNB</th>\n",
              "      <td>0.549206</td>\n",
              "    </tr>\n",
              "    <tr>\n",
              "      <th>MultinomialNB</th>\n",
              "      <td>0.485857</td>\n",
              "    </tr>\n",
              "    <tr>\n",
              "      <th>SVM</th>\n",
              "      <td>0.797516</td>\n",
              "    </tr>\n",
              "    <tr>\n",
              "      <th>Random Forest</th>\n",
              "      <td>0.768448</td>\n",
              "    </tr>\n",
              "  </tbody>\n",
              "</table>\n",
              "</div>"
            ],
            "text/plain": [
              "                F1 Score(identity_hate)\n",
              "Log Regression                 0.699029\n",
              "KNN                            0.230159\n",
              "BernoulliNB                    0.549206\n",
              "MultinomialNB                  0.485857\n",
              "SVM                            0.797516\n",
              "Random Forest                  0.768448"
            ]
          },
          "metadata": {
            "tags": []
          },
          "execution_count": 51
        }
      ]
    },
    {
      "cell_type": "code",
      "metadata": {
        "colab": {
          "base_uri": "https://localhost:8080/",
          "height": 235
        },
        "id": "vE5ipU6iaqYx",
        "outputId": "4428d5c2-b8c5-4df2-cd37-2f787835ca22"
      },
      "source": [
        "\r\n",
        "# Let's combine the dataframes into a master dataframe to compare F1 scores across all categories.\r\n",
        "f1_all = pd.concat([df_tox_cv, df_sev_cv, df_obs_cv, df_ins_cv, df_thr_cv, df_ide_cv], axis=1)\r\n",
        "f1_all"
      ],
      "execution_count": 52,
      "outputs": [
        {
          "output_type": "execute_result",
          "data": {
            "text/html": [
              "<div>\n",
              "<style scoped>\n",
              "    .dataframe tbody tr th:only-of-type {\n",
              "        vertical-align: middle;\n",
              "    }\n",
              "\n",
              "    .dataframe tbody tr th {\n",
              "        vertical-align: top;\n",
              "    }\n",
              "\n",
              "    .dataframe thead th {\n",
              "        text-align: right;\n",
              "    }\n",
              "</style>\n",
              "<table border=\"1\" class=\"dataframe\">\n",
              "  <thead>\n",
              "    <tr style=\"text-align: right;\">\n",
              "      <th></th>\n",
              "      <th>F1 Score(toxic)</th>\n",
              "      <th>F1 Score(severe_toxic)</th>\n",
              "      <th>F1 Score(obscene)</th>\n",
              "      <th>F1 Score(insult)</th>\n",
              "      <th>F1 Score(threat)</th>\n",
              "      <th>F1 Score(identity_hate)</th>\n",
              "    </tr>\n",
              "  </thead>\n",
              "  <tbody>\n",
              "    <tr>\n",
              "      <th>Log Regression</th>\n",
              "      <td>0.861234</td>\n",
              "      <td>0.927879</td>\n",
              "      <td>0.908655</td>\n",
              "      <td>0.896599</td>\n",
              "      <td>0.628821</td>\n",
              "      <td>0.699029</td>\n",
              "    </tr>\n",
              "    <tr>\n",
              "      <th>KNN</th>\n",
              "      <td>0.185120</td>\n",
              "      <td>0.857416</td>\n",
              "      <td>0.519056</td>\n",
              "      <td>0.257992</td>\n",
              "      <td>0.720000</td>\n",
              "      <td>0.230159</td>\n",
              "    </tr>\n",
              "    <tr>\n",
              "      <th>BernoulliNB</th>\n",
              "      <td>0.776521</td>\n",
              "      <td>0.803707</td>\n",
              "      <td>0.787830</td>\n",
              "      <td>0.783762</td>\n",
              "      <td>0.311828</td>\n",
              "      <td>0.549206</td>\n",
              "    </tr>\n",
              "    <tr>\n",
              "      <th>MultinomialNB</th>\n",
              "      <td>0.874958</td>\n",
              "      <td>0.936170</td>\n",
              "      <td>0.901463</td>\n",
              "      <td>0.897411</td>\n",
              "      <td>0.504762</td>\n",
              "      <td>0.485857</td>\n",
              "    </tr>\n",
              "    <tr>\n",
              "      <th>SVM</th>\n",
              "      <td>0.876133</td>\n",
              "      <td>0.926004</td>\n",
              "      <td>0.921378</td>\n",
              "      <td>0.902619</td>\n",
              "      <td>0.786765</td>\n",
              "      <td>0.797516</td>\n",
              "    </tr>\n",
              "    <tr>\n",
              "      <th>Random Forest</th>\n",
              "      <td>0.838055</td>\n",
              "      <td>0.934874</td>\n",
              "      <td>0.909091</td>\n",
              "      <td>0.883993</td>\n",
              "      <td>0.795539</td>\n",
              "      <td>0.768448</td>\n",
              "    </tr>\n",
              "  </tbody>\n",
              "</table>\n",
              "</div>"
            ],
            "text/plain": [
              "                F1 Score(toxic)  ...  F1 Score(identity_hate)\n",
              "Log Regression         0.861234  ...                 0.699029\n",
              "KNN                    0.185120  ...                 0.230159\n",
              "BernoulliNB            0.776521  ...                 0.549206\n",
              "MultinomialNB          0.874958  ...                 0.485857\n",
              "SVM                    0.876133  ...                 0.797516\n",
              "Random Forest          0.838055  ...                 0.768448\n",
              "\n",
              "[6 rows x 6 columns]"
            ]
          },
          "metadata": {
            "tags": []
          },
          "execution_count": 52
        }
      ]
    },
    {
      "cell_type": "code",
      "metadata": {
        "colab": {
          "base_uri": "https://localhost:8080/",
          "height": 235
        },
        "id": "ju0yZVW_ayGP",
        "outputId": "548b3681-cf87-49a8-d0aa-d8a8cead053b"
      },
      "source": [
        "\r\n",
        "f1_all_trp = f1_all.transpose()\r\n",
        "f1_all_trp"
      ],
      "execution_count": 53,
      "outputs": [
        {
          "output_type": "execute_result",
          "data": {
            "text/html": [
              "<div>\n",
              "<style scoped>\n",
              "    .dataframe tbody tr th:only-of-type {\n",
              "        vertical-align: middle;\n",
              "    }\n",
              "\n",
              "    .dataframe tbody tr th {\n",
              "        vertical-align: top;\n",
              "    }\n",
              "\n",
              "    .dataframe thead th {\n",
              "        text-align: right;\n",
              "    }\n",
              "</style>\n",
              "<table border=\"1\" class=\"dataframe\">\n",
              "  <thead>\n",
              "    <tr style=\"text-align: right;\">\n",
              "      <th></th>\n",
              "      <th>Log Regression</th>\n",
              "      <th>KNN</th>\n",
              "      <th>BernoulliNB</th>\n",
              "      <th>MultinomialNB</th>\n",
              "      <th>SVM</th>\n",
              "      <th>Random Forest</th>\n",
              "    </tr>\n",
              "  </thead>\n",
              "  <tbody>\n",
              "    <tr>\n",
              "      <th>F1 Score(toxic)</th>\n",
              "      <td>0.861234</td>\n",
              "      <td>0.185120</td>\n",
              "      <td>0.776521</td>\n",
              "      <td>0.874958</td>\n",
              "      <td>0.876133</td>\n",
              "      <td>0.838055</td>\n",
              "    </tr>\n",
              "    <tr>\n",
              "      <th>F1 Score(severe_toxic)</th>\n",
              "      <td>0.927879</td>\n",
              "      <td>0.857416</td>\n",
              "      <td>0.803707</td>\n",
              "      <td>0.936170</td>\n",
              "      <td>0.926004</td>\n",
              "      <td>0.934874</td>\n",
              "    </tr>\n",
              "    <tr>\n",
              "      <th>F1 Score(obscene)</th>\n",
              "      <td>0.908655</td>\n",
              "      <td>0.519056</td>\n",
              "      <td>0.787830</td>\n",
              "      <td>0.901463</td>\n",
              "      <td>0.921378</td>\n",
              "      <td>0.909091</td>\n",
              "    </tr>\n",
              "    <tr>\n",
              "      <th>F1 Score(insult)</th>\n",
              "      <td>0.896599</td>\n",
              "      <td>0.257992</td>\n",
              "      <td>0.783762</td>\n",
              "      <td>0.897411</td>\n",
              "      <td>0.902619</td>\n",
              "      <td>0.883993</td>\n",
              "    </tr>\n",
              "    <tr>\n",
              "      <th>F1 Score(threat)</th>\n",
              "      <td>0.628821</td>\n",
              "      <td>0.720000</td>\n",
              "      <td>0.311828</td>\n",
              "      <td>0.504762</td>\n",
              "      <td>0.786765</td>\n",
              "      <td>0.795539</td>\n",
              "    </tr>\n",
              "    <tr>\n",
              "      <th>F1 Score(identity_hate)</th>\n",
              "      <td>0.699029</td>\n",
              "      <td>0.230159</td>\n",
              "      <td>0.549206</td>\n",
              "      <td>0.485857</td>\n",
              "      <td>0.797516</td>\n",
              "      <td>0.768448</td>\n",
              "    </tr>\n",
              "  </tbody>\n",
              "</table>\n",
              "</div>"
            ],
            "text/plain": [
              "                         Log Regression       KNN  ...       SVM  Random Forest\n",
              "F1 Score(toxic)                0.861234  0.185120  ...  0.876133       0.838055\n",
              "F1 Score(severe_toxic)         0.927879  0.857416  ...  0.926004       0.934874\n",
              "F1 Score(obscene)              0.908655  0.519056  ...  0.921378       0.909091\n",
              "F1 Score(insult)               0.896599  0.257992  ...  0.902619       0.883993\n",
              "F1 Score(threat)               0.628821  0.720000  ...  0.786765       0.795539\n",
              "F1 Score(identity_hate)        0.699029  0.230159  ...  0.797516       0.768448\n",
              "\n",
              "[6 rows x 6 columns]"
            ]
          },
          "metadata": {
            "tags": []
          },
          "execution_count": 53
        }
      ]
    },
    {
      "cell_type": "code",
      "metadata": {
        "colab": {
          "base_uri": "https://localhost:8080/",
          "height": 457
        },
        "id": "GDwL98hha71Y",
        "outputId": "92e8b357-e914-4f35-8a4f-60ed29e2f018"
      },
      "source": [
        "\r\n",
        "sns.lineplot(data=f1_all_trp, markers=True)\r\n",
        "plt.xticks(rotation='90', fontsize=14)\r\n",
        "plt.yticks(fontsize=14)\r\n",
        "plt.legend(loc='best')\r\n",
        "plt.title('F1 Score of ML models (TF-IDF)', fontsize=20)"
      ],
      "execution_count": 56,
      "outputs": [
        {
          "output_type": "execute_result",
          "data": {
            "text/plain": [
              "Text(0.5, 1.0, 'F1 Score of ML models (TF-IDF)')"
            ]
          },
          "metadata": {
            "tags": []
          },
          "execution_count": 56
        },
        {
          "output_type": "display_data",
          "data": {
            "image/png": "[encoded data removed]",
            "text/plain": [
              "<Figure size 432x288 with 1 Axes>"
            ]
          },
          "metadata": {
            "tags": [],
            "needs_background": "light"
          }
        }
      ]
    },
    {
      "cell_type": "markdown",
      "metadata": {
        "id": "JsIN_5lqbzxY"
      },
      "source": [
        "LinearSVC and Random Forest models perform best (purple and brown lines seem to be the highest)."
      ]
    },
    {
      "cell_type": "code",
      "metadata": {
        "colab": {
          "base_uri": "https://localhost:8080/",
          "height": 204
        },
        "id": "Gq4w93vJb1SB",
        "outputId": "d8300fe7-f4f8-475d-c6e8-6c05a539f2ec"
      },
      "source": [
        "data_tox_done.head()"
      ],
      "execution_count": 57,
      "outputs": [
        {
          "output_type": "execute_result",
          "data": {
            "text/html": [
              "<div>\n",
              "<style scoped>\n",
              "    .dataframe tbody tr th:only-of-type {\n",
              "        vertical-align: middle;\n",
              "    }\n",
              "\n",
              "    .dataframe tbody tr th {\n",
              "        vertical-align: top;\n",
              "    }\n",
              "\n",
              "    .dataframe thead th {\n",
              "        text-align: right;\n",
              "    }\n",
              "</style>\n",
              "<table border=\"1\" class=\"dataframe\">\n",
              "  <thead>\n",
              "    <tr style=\"text-align: right;\">\n",
              "      <th></th>\n",
              "      <th>id</th>\n",
              "      <th>comment_text</th>\n",
              "      <th>toxic</th>\n",
              "    </tr>\n",
              "  </thead>\n",
              "  <tbody>\n",
              "    <tr>\n",
              "      <th>6</th>\n",
              "      <td>0002bcb3da6cb337</td>\n",
              "      <td>cocksucker before you piss around on my work</td>\n",
              "      <td>1</td>\n",
              "    </tr>\n",
              "    <tr>\n",
              "      <th>12</th>\n",
              "      <td>0005c987bdfc9d4b</td>\n",
              "      <td>hey    what is it       talk   what is it    a...</td>\n",
              "      <td>1</td>\n",
              "    </tr>\n",
              "    <tr>\n",
              "      <th>16</th>\n",
              "      <td>0007e25b2121310b</td>\n",
              "      <td>bye    don t look  come or think of comming ba...</td>\n",
              "      <td>1</td>\n",
              "    </tr>\n",
              "    <tr>\n",
              "      <th>42</th>\n",
              "      <td>001810bf8c45bf5f</td>\n",
              "      <td>you are gay or antisemmitian    archangel whit...</td>\n",
              "      <td>1</td>\n",
              "    </tr>\n",
              "    <tr>\n",
              "      <th>43</th>\n",
              "      <td>00190820581d90ce</td>\n",
              "      <td>fuck your filthy mother in the ass  dry</td>\n",
              "      <td>1</td>\n",
              "    </tr>\n",
              "  </tbody>\n",
              "</table>\n",
              "</div>"
            ],
            "text/plain": [
              "                  id                                       comment_text  toxic\n",
              "6   0002bcb3da6cb337       cocksucker before you piss around on my work      1\n",
              "12  0005c987bdfc9d4b  hey    what is it       talk   what is it    a...      1\n",
              "16  0007e25b2121310b  bye    don t look  come or think of comming ba...      1\n",
              "42  001810bf8c45bf5f  you are gay or antisemmitian    archangel whit...      1\n",
              "43  00190820581d90ce           fuck your filthy mother in the ass  dry       1"
            ]
          },
          "metadata": {
            "tags": []
          },
          "execution_count": 57
        }
      ]
    },
    {
      "cell_type": "code",
      "metadata": {
        "colab": {
          "base_uri": "https://localhost:8080/"
        },
        "id": "80s2uXCvb_Hh",
        "outputId": "1fe18bdc-d39b-4bfa-cdbd-f608249eda08"
      },
      "source": [
        "X = data_tox_done.comment_text\r\n",
        "y = data_tox_done['toxic']\r\n",
        "\r\n",
        "X_train, X_test, y_train, y_test = train_test_split(X, y, test_size=0.3, random_state=42)\r\n",
        "\r\n",
        "# Initiate a Tfidf vectorizer\r\n",
        "tfv = TfidfVectorizer(ngram_range=(1,1), stop_words='english')\r\n",
        "\r\n",
        "X_train_fit = tfv.fit_transform(X_train)  # Convert the X data into a document term matrix dataframe\r\n",
        "X_test_fit = tfv.transform(X_test)  # Converts the X_test comments into Vectorized format\r\n",
        "\r\n",
        "randomforest = RandomForestClassifier(n_estimators=100, random_state=42)\r\n",
        "\r\n",
        "# Train our SVM model with the X training data converted into Count Vectorized format with the Y training data\r\n",
        "randomforest.fit(X_train_fit, y_train)\r\n",
        "randomforest.predict(X_test_fit)"
      ],
      "execution_count": 58,
      "outputs": [
        {
          "output_type": "execute_result",
          "data": {
            "text/plain": [
              "array([0, 1, 1, ..., 1, 1, 1])"
            ]
          },
          "metadata": {
            "tags": []
          },
          "execution_count": 58
        }
      ]
    },
    {
      "cell_type": "code",
      "metadata": {
        "colab": {
          "base_uri": "https://localhost:8080/"
        },
        "id": "xU_Pkm9YcG3x",
        "outputId": "7cde9769-87db-4a5a-acec-610d37e588aa"
      },
      "source": [
        "\r\n",
        "# Sample Prediction\r\n",
        "comment1 = ['You piece of shit']\r\n",
        "comment2 = ['What is up garden apple doing']\r\n",
        "\r\n",
        "comment1_vect = tfv.transform(comment1)\r\n",
        "randomforest.predict_proba(comment1_vect)[:,1]"
      ],
      "execution_count": 59,
      "outputs": [
        {
          "output_type": "execute_result",
          "data": {
            "text/plain": [
              "array([1.])"
            ]
          },
          "metadata": {
            "tags": []
          },
          "execution_count": 59
        }
      ]
    },
    {
      "cell_type": "code",
      "metadata": {
        "colab": {
          "base_uri": "https://localhost:8080/"
        },
        "id": "YR9XfqNMcN5Z",
        "outputId": "51bd960b-f671-426d-8f80-6ee7fc02b7a5"
      },
      "source": [
        "comment2_vect = tfv.transform(comment2)\r\n",
        "randomforest.predict_proba(comment2_vect)[:,1]"
      ],
      "execution_count": 60,
      "outputs": [
        {
          "output_type": "execute_result",
          "data": {
            "text/plain": [
              "array([0.16036935])"
            ]
          },
          "metadata": {
            "tags": []
          },
          "execution_count": 60
        }
      ]
    },
    {
      "cell_type": "markdown",
      "metadata": {
        "id": "pGe_3546cWBN"
      },
      "source": [
        "Random forest has assigned a probability of 1 that comment 1 ('you piece of shit') is toxic. Comment 2 has only a low toxicity probability of 0.16."
      ]
    },
    {
      "cell_type": "markdown",
      "metadata": {
        "id": "BkuttwYzcffg"
      },
      "source": [
        "Pickling trained RandomForest models for all categories.\r\n",
        "\r\n",
        "\r\n",
        "We choose Random Forest instead of LinearSVC although the latter performs well, as RDF has predict_proba function and LinearSVC does not. We need to output a probability score for each comment."
      ]
    },
    {
      "cell_type": "code",
      "metadata": {
        "id": "gSl8Fe1ccj_Z"
      },
      "source": [
        "import pickle"
      ],
      "execution_count": 61,
      "outputs": []
    },
    {
      "cell_type": "markdown",
      "metadata": {
        "id": "dOdjNom3cuUZ"
      },
      "source": [
        "We have to pickle not only the TF-IDF vectorizer object, but also the RDF model trained on the related vectorizer"
      ]
    },
    {
      "cell_type": "code",
      "metadata": {
        "id": "3dZca_OVcyr6"
      },
      "source": [
        "\r\n",
        "def pickle_model(df, label):\r\n",
        "    \r\n",
        "    X = df.comment_text\r\n",
        "    y = df[label]\r\n",
        "\r\n",
        "    # Initiate a Tfidf vectorizer\r\n",
        "    tfv = TfidfVectorizer(ngram_range=(1,1), stop_words='english')\r\n",
        "    \r\n",
        "    # Convert the X data into a document term matrix dataframe\r\n",
        "    X_vect = tfv.fit_transform(X)  \r\n",
        "    \r\n",
        "    # saves the column labels (ie. the vocabulary)\r\n",
        "    # wb means Writing to the file in Binary mode, written in byte objects\r\n",
        "    with open(r\"{}.pkl\".format(label + '_vect'), \"wb\") as f:   \r\n",
        "        pickle.dump(tfv, f)   \r\n",
        "        \r\n",
        "    randomforest = RandomForestClassifier(n_estimators=100, random_state=42)\r\n",
        "    randomforest.fit(X_vect, y)\r\n",
        "\r\n",
        "    # Create a new pickle file based on random forest\r\n",
        "    with open(r\"{}.pkl\".format(label + '_model'), \"wb\") as f:  \r\n",
        "        pickle.dump(randomforest, f)"
      ],
      "execution_count": 62,
      "outputs": []
    }
  ]
}